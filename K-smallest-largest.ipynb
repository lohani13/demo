{
 "cells": [
  {
   "cell_type": "code",
   "execution_count": 12,
   "metadata": {},
   "outputs": [
    {
     "name": "stdout",
     "output_type": "stream",
     "text": [
      "7\n",
      "5\n"
     ]
    }
   ],
   "source": [
    "import heapq\n",
    "k=4\n",
    "li=[5,7,9,1,3,4,7,6,5,7]\n",
    "heapq.heapify(li)#convert list into heap\n",
    "print(heapq.nlargest(3,li)[-1])\n",
    "print(heapq.nsmallest(k,li)[-1])"
   ]
  },
  {
   "cell_type": "code",
   "execution_count": 18,
   "metadata": {},
   "outputs": [
    {
     "name": "stdout",
     "output_type": "stream",
     "text": [
      "[2, 13, 1, 42, 64, 6, 8]\n"
     ]
    }
   ],
   "source": [
    "##merge two array\n",
    "from heapq import merge\n",
    "def mergearray(b,c):\n",
    "    return list(merge(b,c))\n",
    "\n",
    "a=[1,35,4,5]\n",
    "b=[2,64,6,8]\n",
    "c=[13,1,42]\n",
    "print(mergearray(b,c))"
   ]
  },
  {
   "cell_type": "code",
   "execution_count": null,
   "metadata": {},
   "outputs": [],
   "source": []
  }
 ],
 "metadata": {
  "kernelspec": {
   "display_name": "Python 3",
   "language": "python",
   "name": "python3"
  },
  "language_info": {
   "codemirror_mode": {
    "name": "ipython",
    "version": 3
   },
   "file_extension": ".py",
   "mimetype": "text/x-python",
   "name": "python",
   "nbconvert_exporter": "python",
   "pygments_lexer": "ipython3",
   "version": "3.6.8"
  }
 },
 "nbformat": 4,
 "nbformat_minor": 2
}
