{
 "cells": [
  {
   "cell_type": "code",
   "execution_count": 1,
   "metadata": {},
   "outputs": [],
   "source": [
    "#logic is to sort the array and find the minimum length of smallest and largest element\n",
    "def longestcommmonprefix(a):\n",
    "    size=len(a)\n",
    "    if(size==0):\n",
    "        return \"\"\n",
    "    if(size==1):\n",
    "        return a[0]\n",
    "    a.sort()\n",
    "    end=min(len(a[0]),len(a[size-1]))\n",
    "    \n",
    "    i=0\n",
    "    while(i<end and a[0][i]==a[size-1][i]):\n",
    "        i+=1\n",
    "    \n",
    "    pre=a[0][0:i]#array first string a[0]\n",
    "    \n",
    "    return pre\n"
   ]
  },
  {
   "cell_type": "code",
   "execution_count": 3,
   "metadata": {},
   "outputs": [
    {
     "name": "stdout",
     "output_type": "stream",
     "text": [
      "geeksforgeeks geeks geek geexz\n",
      "gee\n"
     ]
    }
   ],
   "source": [
    "a=[i for i in  input().split()]\n",
    "print(longestcommmonprefix(a))"
   ]
  },
  {
   "cell_type": "code",
   "execution_count": null,
   "metadata": {},
   "outputs": [],
   "source": [
    "def longestcommonprefix(a):\n",
    "    size=len(a)\n",
    "    if(size==0):\n",
    "        return \"\"\n",
    "    if(size==1):\n",
    "        return a[0]\n",
    "    a.sort()\n",
    "    if(a[0][0]!=a[size-1][0]):\n",
    "        return \"-1\";\n",
    "    end=min(len(a[0]),len(a[size-1]))\n",
    "    \n",
    "    i=0\n",
    "    while(i<end and a[0][i]==a[size-1][i]):\n",
    "        i+=1\n",
    "    \n",
    "    pre=a[0][0:i]#array first string a[0]\n",
    "    \n",
    "    return pre\n",
    "    \n",
    "    \n",
    "t=int(input())\n",
    "for i in range(0,t):\n",
    "    n=int(input())\n",
    "    a=[i for i in input().split()]\n",
    "    print(longestcommonprefix(a))"
   ]
  }
 ],
 "metadata": {
  "kernelspec": {
   "display_name": "Python 3",
   "language": "python",
   "name": "python3"
  },
  "language_info": {
   "codemirror_mode": {
    "name": "ipython",
    "version": 3
   },
   "file_extension": ".py",
   "mimetype": "text/x-python",
   "name": "python",
   "nbconvert_exporter": "python",
   "pygments_lexer": "ipython3",
   "version": "3.6.8"
  }
 },
 "nbformat": 4,
 "nbformat_minor": 2
}
