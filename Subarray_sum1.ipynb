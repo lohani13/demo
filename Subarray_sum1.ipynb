{
 "cells": [
  {
   "cell_type": "code",
   "execution_count": 1,
   "metadata": {},
   "outputs": [],
   "source": [
    "def subarray(a,n,k):\n",
    "    m=dict()\n",
    "    curr_sum=0\n",
    "    for i in range(0,n):\n",
    "        curr_sum=curr_sum+a[i]\n",
    "        \n",
    "        if(curr_sum==k):\n",
    "            print(\"1\",i+1)\n",
    "            return\n",
    "        \n",
    "        if(curr_sum-k) in m:\n",
    "            print(m[curr_sum-k]+2,i+1)\n",
    "            \n",
    "            return\n",
    "        \n",
    "        m[curr_sum]=i\n",
    "        \n",
    "    print(\"-1\")\n",
    "\n",
    "\n",
    "\n",
    "t=int(input())\n",
    "for i in range(0,t):\n",
    "    n,k=input().split()\n",
    "    a=list(map(int,input().split()))\n",
    "    subarray(a,int(n),int(k))\n",
    "    \n",
    "\n",
    "              \n",
    "        \n",
    "        \n",
    "        \n",
    "        \n",
    "            \n",
    "        \n",
    "    \n",
    "        \n",
    "        "
   ]
  },
  {
   "cell_type": "code",
   "execution_count": 4,
   "metadata": {},
   "outputs": [
    {
     "name": "stdout",
     "output_type": "stream",
     "text": [
      "1 \n",
      "5 -10\n",
      "10 2 -2 -20 10\n",
      "-1\n",
      "-1\n",
      "-1\n",
      "0 to 3\n"
     ]
    }
   ],
   "source": [
    "t=int(input())\n",
    "for i in range(0,t):\n",
    "    n,k=input().split()\n",
    "    a=list(map(int,input().split()))\n",
    "    subarray(a,int(n),int(k))"
   ]
  },
  {
   "cell_type": "code",
   "execution_count": null,
   "metadata": {},
   "outputs": [],
   "source": []
  }
 ],
 "metadata": {
  "kernelspec": {
   "display_name": "Python 3",
   "language": "python",
   "name": "python3"
  },
  "language_info": {
   "codemirror_mode": {
    "name": "ipython",
    "version": 3
   },
   "file_extension": ".py",
   "mimetype": "text/x-python",
   "name": "python",
   "nbconvert_exporter": "python",
   "pygments_lexer": "ipython3",
   "version": "3.6.8"
  }
 },
 "nbformat": 4,
 "nbformat_minor": 2
}
