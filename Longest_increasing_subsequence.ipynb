{
 "cells": [
  {
   "cell_type": "code",
   "execution_count": 2,
   "metadata": {},
   "outputs": [],
   "source": [
    "def lis(arr):\n",
    "    n=len(arr)\n",
    "    lis=[1]*n\n",
    "    best=-1\n",
    "    for i in range(1,n):\n",
    "        for j in range(0,i):\n",
    "            if(arr[j]<=arr[i]):\n",
    "                curr=1+lis[j]\n",
    "                lis[i]=max(curr,lis[i])\n",
    "        best=max(best,lis[i])\n",
    "        \n",
    "    return best"
   ]
  },
  {
   "cell_type": "code",
   "execution_count": 3,
   "metadata": {},
   "outputs": [
    {
     "name": "stdout",
     "output_type": "stream",
     "text": [
      "10 22 9 33 21 50 41 60 80\n",
      "6\n"
     ]
    }
   ],
   "source": [
    "l=[int(i) for i in input().split()]\n",
    "x=lis(l)\n",
    "print(x)"
   ]
  },
  {
   "cell_type": "code",
   "execution_count": null,
   "metadata": {},
   "outputs": [],
   "source": []
  }
 ],
 "metadata": {
  "kernelspec": {
   "display_name": "Python 3",
   "language": "python",
   "name": "python3"
  },
  "language_info": {
   "codemirror_mode": {
    "name": "ipython",
    "version": 3
   },
   "file_extension": ".py",
   "mimetype": "text/x-python",
   "name": "python",
   "nbconvert_exporter": "python",
   "pygments_lexer": "ipython3",
   "version": "3.6.8"
  }
 },
 "nbformat": 4,
 "nbformat_minor": 2
}
