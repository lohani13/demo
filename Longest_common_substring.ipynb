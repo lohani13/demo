{
 "cells": [
  {
   "cell_type": "code",
   "execution_count": 8,
   "metadata": {},
   "outputs": [],
   "source": [
    "def lcs(x,y,m,n):\n",
    "    lcsf=[[0 for k in range(n+1)] for l in range(m+1)]\n",
    "    result=0\n",
    "    \n",
    "    for i in range(m+1):\n",
    "        for j in range(n+1):\n",
    "            if(i==0 or j==0):\n",
    "                lcsf[i][j]=0\n",
    "            elif (x[i-1]==y[j-1]):\n",
    "                lcsf[i][j]=lcsf[i-1][j-1]+1\n",
    "                result=max(lcsf[i][j],result)\n",
    "            else:\n",
    "                lcsf[i][j]=0\n",
    "    return result"
   ]
  },
  {
   "cell_type": "code",
   "execution_count": 9,
   "metadata": {},
   "outputs": [
    {
     "name": "stdout",
     "output_type": "stream",
     "text": [
      "abcdxyz\n",
      "xyzabcd\n",
      "4\n"
     ]
    }
   ],
   "source": [
    "x=input()\n",
    "y=input()\n",
    "\n",
    "print(lcs(x,y,len(x),len(y)))"
   ]
  },
  {
   "cell_type": "code",
   "execution_count": null,
   "metadata": {},
   "outputs": [],
   "source": []
  }
 ],
 "metadata": {
  "kernelspec": {
   "display_name": "Python 3",
   "language": "python",
   "name": "python3"
  },
  "language_info": {
   "codemirror_mode": {
    "name": "ipython",
    "version": 3
   },
   "file_extension": ".py",
   "mimetype": "text/x-python",
   "name": "python",
   "nbconvert_exporter": "python",
   "pygments_lexer": "ipython3",
   "version": "3.6.8"
  }
 },
 "nbformat": 4,
 "nbformat_minor": 2
}
