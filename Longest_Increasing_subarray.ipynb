{
 "cells": [
  {
   "cell_type": "code",
   "execution_count": null,
   "metadata": {},
   "outputs": [],
   "source": []
  },
  {
   "cell_type": "code",
   "execution_count": 9,
   "metadata": {},
   "outputs": [
    {
     "name": "stdout",
     "output_type": "stream",
     "text": [
      "9\n",
      "5 6 3 5 7 8 9 1 2\n",
      "5\n"
     ]
    }
   ],
   "source": [
    "def LongestIncreasingsub(a,n):\n",
    "    l=0\n",
    "    r=1\n",
    "    c=1\n",
    "    t=1\n",
    "    while(r<n):\n",
    "        if(a[r]<=a[l]):\n",
    "            c=0\n",
    "        c+=1\n",
    "        l=l+1\n",
    "        r=r+1\n",
    "        t=max(t,c)\n",
    "        \n",
    "    return t\n",
    "    \n",
    "t=int(input())\n",
    "for i in range(0,t):\n",
    "    n=int(input())\n",
    "    a=list(map(int,input().split()))\n",
    "    c=LongestIncreasingsub(a,n)\n",
    "    print(c)"
   ]
  },
  {
   "cell_type": "code",
   "execution_count": null,
   "metadata": {},
   "outputs": [],
   "source": []
  }
 ],
 "metadata": {
  "kernelspec": {
   "display_name": "Python 3",
   "language": "python",
   "name": "python3"
  },
  "language_info": {
   "codemirror_mode": {
    "name": "ipython",
    "version": 3
   },
   "file_extension": ".py",
   "mimetype": "text/x-python",
   "name": "python",
   "nbconvert_exporter": "python",
   "pygments_lexer": "ipython3",
   "version": "3.6.8"
  }
 },
 "nbformat": 4,
 "nbformat_minor": 2
}
