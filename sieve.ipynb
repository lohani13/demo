{
 "cells": [
  {
   "cell_type": "code",
   "execution_count": 5,
   "metadata": {},
   "outputs": [],
   "source": [
    "def sieve(n):\n",
    "    prime=[True for i in range(n+1)]\n",
    "    p=2\n",
    "    while(p*p<=n):\n",
    "        if(prime[p]==True):\n",
    "            for i in range(p*p,n+1,p):\n",
    "                prime[i]=False\n",
    "        p+=1\n",
    "        \n",
    "    for p in range(2,n):\n",
    "        if prime[p]:\n",
    "            print(p,end=\",\")"
   ]
  },
  {
   "cell_type": "code",
   "execution_count": 6,
   "metadata": {},
   "outputs": [
    {
     "name": "stdout",
     "output_type": "stream",
     "text": [
      "2,3,5,7,11,13,17,19,23,29,"
     ]
    }
   ],
   "source": [
    "n=30\n",
    "sieve(30)"
   ]
  },
  {
   "cell_type": "code",
   "execution_count": null,
   "metadata": {},
   "outputs": [],
   "source": [
    "#correction of sieve to O(N)\n"
   ]
  }
 ],
 "metadata": {
  "kernelspec": {
   "display_name": "Python 3",
   "language": "python",
   "name": "python3"
  },
  "language_info": {
   "codemirror_mode": {
    "name": "ipython",
    "version": 3
   },
   "file_extension": ".py",
   "mimetype": "text/x-python",
   "name": "python",
   "nbconvert_exporter": "python",
   "pygments_lexer": "ipython3",
   "version": "3.6.8"
  }
 },
 "nbformat": 4,
 "nbformat_minor": 2
}
