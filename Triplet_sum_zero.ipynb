{
 "cells": [
  {
   "cell_type": "code",
   "execution_count": 7,
   "metadata": {},
   "outputs": [],
   "source": [
    "def findTrip(a,n):\n",
    "    found=False\n",
    "    for i in range(n-1):\n",
    "        s=set()\n",
    "        for j in range(i+1,n):\n",
    "            x=-(a[i]+a[j])\n",
    "            if x in s:\n",
    "                print(x,a[i],a[j])\n",
    "                found=True\n",
    "            else:\n",
    "                s.add(a[j])\n",
    "    if found==False:\n",
    "        print(\"No Triplet\")"
   ]
  },
  {
   "cell_type": "code",
   "execution_count": 8,
   "metadata": {},
   "outputs": [
    {
     "name": "stdout",
     "output_type": "stream",
     "text": [
      "0 6 7 5 4 3\n",
      "No Triplet\n"
     ]
    }
   ],
   "source": [
    "m=list(map(int,input().split()))\n",
    "n=len(m)\n",
    "findTrip(m,n)"
   ]
  },
  {
   "cell_type": "code",
   "execution_count": null,
   "metadata": {},
   "outputs": [],
   "source": []
  }
 ],
 "metadata": {
  "kernelspec": {
   "display_name": "Python 3",
   "language": "python",
   "name": "python3"
  },
  "language_info": {
   "codemirror_mode": {
    "name": "ipython",
    "version": 3
   },
   "file_extension": ".py",
   "mimetype": "text/x-python",
   "name": "python",
   "nbconvert_exporter": "python",
   "pygments_lexer": "ipython3",
   "version": "3.6.8"
  }
 },
 "nbformat": 4,
 "nbformat_minor": 2
}
