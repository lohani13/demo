{
 "cells": [
  {
   "cell_type": "code",
   "execution_count": 12,
   "metadata": {},
   "outputs": [],
   "source": [
    "def Longest_max_sub(a,n,k):\n",
    "    m=dict()\n",
    "    len1=0\n",
    "    t=0\n",
    "    curr_sum=0\n",
    "    for i in range(0,n):\n",
    "        curr_sum+=a[i]\n",
    "        if(curr_sum==k):\n",
    "            len1=i+1\n",
    "        if(curr_sum-k) in m:\n",
    "            len1=i-m[curr_sum-k]\n",
    "        if(k not in m):\n",
    "            m[curr_sum]=i\n",
    "        t=max(len1,t)\n",
    "    return t\n"
   ]
  },
  {
   "cell_type": "code",
   "execution_count": 13,
   "metadata": {},
   "outputs": [
    {
     "name": "stdout",
     "output_type": "stream",
     "text": [
      "10\n",
      "3\n",
      "1 2 3 -3 -2 -1 4 1 0 1\n",
      "6\n"
     ]
    }
   ],
   "source": [
    "n=int(input())\n",
    "k=int(input())\n",
    "a=list(map(int,input().split()))\n",
    "t=Longest_max_sub(a,n,k)\n",
    "print(t)"
   ]
  },
  {
   "cell_type": "code",
   "execution_count": null,
   "metadata": {},
   "outputs": [],
   "source": []
  }
 ],
 "metadata": {
  "kernelspec": {
   "display_name": "Python 3",
   "language": "python",
   "name": "python3"
  },
  "language_info": {
   "codemirror_mode": {
    "name": "ipython",
    "version": 3
   },
   "file_extension": ".py",
   "mimetype": "text/x-python",
   "name": "python",
   "nbconvert_exporter": "python",
   "pygments_lexer": "ipython3",
   "version": "3.6.8"
  }
 },
 "nbformat": 4,
 "nbformat_minor": 2
}
