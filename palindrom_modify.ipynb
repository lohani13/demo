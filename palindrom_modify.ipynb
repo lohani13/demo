{
 "cells": [
  {
   "cell_type": "code",
   "execution_count": 10,
   "metadata": {},
   "outputs": [],
   "source": [
    "def changemax(strr,k):\n",
    "    palin=strr\n",
    "    #try to make palindrom first\n",
    "    l=0\n",
    "    r=len(strr)-1\n",
    "    while l<=r:\n",
    "        if(strr[l]!=strr[r]):\n",
    "            palin[l]=palin[r]=max(strr[l],strr[r])\n",
    "            \n",
    "            k-=1\n",
    "            \n",
    "        l+=1\n",
    "        r-=1\n",
    "        \n",
    "    if(k<0):\n",
    "        return \"-1\"\n",
    "        \n",
    "    l=0\n",
    "    r=len(strr)-1\n",
    "        \n",
    "    while(l<=r):\n",
    "        if(l==r):   #mid point condition\n",
    "            if(k>0):\n",
    "                palin[l]='9'\n",
    "                    \n",
    "        if(palin[l]<'9'):\n",
    "            if(k>=2 and palin[l]==strr[l] and palin[r]==strr[r]):\n",
    "                k-=2\n",
    "                palin[l]=palin[r]='9'\n",
    "                    \n",
    "            elif (k>=1 and (palin[l]!=strr[l] or palin[r]!=strr[r])):\n",
    "                    k-=1\n",
    "                    palin[l]=palin[r]='9'\n",
    "                      \n",
    "        l+=1\n",
    "        r-=1\n",
    "                      \n",
    "    return palin\n",
    "                      "
   ]
  },
  {
   "cell_type": "code",
   "execution_count": 11,
   "metadata": {},
   "outputs": [
    {
     "name": "stdout",
     "output_type": "stream",
     "text": [
      "['0', '0', '1', '1']\n",
      "-1\n"
     ]
    }
   ],
   "source": [
    "st=\"0011\"\n",
    "strr=[i for i in st]\n",
    "k=1\n",
    "print(strr)\n",
    "a=changemax(strr,k)\n",
    "print(\"\".join(a))"
   ]
  },
  {
   "cell_type": "code",
   "execution_count": null,
   "metadata": {},
   "outputs": [],
   "source": []
  }
 ],
 "metadata": {
  "kernelspec": {
   "display_name": "Python 3",
   "language": "python",
   "name": "python3"
  },
  "language_info": {
   "codemirror_mode": {
    "name": "ipython",
    "version": 3
   },
   "file_extension": ".py",
   "mimetype": "text/x-python",
   "name": "python",
   "nbconvert_exporter": "python",
   "pygments_lexer": "ipython3",
   "version": "3.6.8"
  }
 },
 "nbformat": 4,
 "nbformat_minor": 2
}
