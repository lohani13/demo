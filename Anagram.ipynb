{
 "cells": [
  {
   "cell_type": "code",
   "execution_count": null,
   "metadata": {},
   "outputs": [],
   "source": []
  },
  {
   "cell_type": "code",
   "execution_count": 3,
   "metadata": {},
   "outputs": [
    {
     "name": "stdout",
     "output_type": "stream",
     "text": [
      "123123413432432\n",
      "['2', '2', '2', '2', '4', '4', '4', '1', '1', '1', '3', '3', '3', '3', '3']\n"
     ]
    }
   ],
   "source": [
    "import re\n",
    "str1=input()\n",
    "even=re.findall('[02468]',str1)\n",
    "odd=re.findall('[13579]',str1)\n",
    "\n",
    "s2=sorted(even)+sorted(odd)\n",
    "print(str(s2))"
   ]
  },
  {
   "cell_type": "code",
   "execution_count": 9,
   "metadata": {},
   "outputs": [],
   "source": [
    "def makeAnagram(a,b):\n",
    "    bu=[0]*26\n",
    "    for char in a:\n",
    "        bu[ord(char)-ord('a')]+=1\n",
    "    for char in b:\n",
    "        bu[ord(char)-ord('a')]-=1\n",
    "    return sum(map(abs,bu))"
   ]
  },
  {
   "cell_type": "code",
   "execution_count": 10,
   "metadata": {},
   "outputs": [
    {
     "data": {
      "text/plain": [
       "10"
      ]
     },
     "execution_count": 10,
     "metadata": {},
     "output_type": "execute_result"
    }
   ],
   "source": [
    "str1=\"dsafaff\"\n",
    "str2=\"faffrfergre\"\n",
    "makeAnagram(str1,str2)"
   ]
  },
  {
   "cell_type": "code",
   "execution_count": null,
   "metadata": {},
   "outputs": [],
   "source": []
  }
 ],
 "metadata": {
  "kernelspec": {
   "display_name": "Python 3",
   "language": "python",
   "name": "python3"
  },
  "language_info": {
   "codemirror_mode": {
    "name": "ipython",
    "version": 3
   },
   "file_extension": ".py",
   "mimetype": "text/x-python",
   "name": "python",
   "nbconvert_exporter": "python",
   "pygments_lexer": "ipython3",
   "version": "3.6.8"
  }
 },
 "nbformat": 4,
 "nbformat_minor": 2
}
